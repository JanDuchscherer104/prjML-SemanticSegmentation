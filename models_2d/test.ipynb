{
 "cells": [
  {
   "cell_type": "code",
   "execution_count": 2,
   "metadata": {},
   "outputs": [],
   "source": [
    "import torch\n",
    "import torch.nn as nn\n",
    "import torchvision\n",
    "from torchsummary import summary\n",
    "from torchvision.models import resnet50\n",
    "from torchvision.models.resnet import Bottleneck"
   ]
  },
  {
   "cell_type": "code",
   "execution_count": 3,
   "metadata": {},
   "outputs": [],
   "source": [
    "class ResNet4Channel(nn.Module):\n",
    "    def __init__(self, out_features=1000):\n",
    "        super(ResNet4Channel, self).__init__()\n",
    "        backbone = resnet50(weights=torchvision.models.ResNet50_Weights)\n",
    "        weights = backbone.conv1.weight.clone()\n",
    "\n",
    "        # h x w x 4\n",
    "        self.conv1 = nn.Conv2d(4, 64, kernel_size=7, stride=2, padding=3, bias=False)\n",
    "        self.conv1.weight = nn.Parameter(\n",
    "            torch.cat((weights, weights[:, 1:2, :, :]), dim=1)\n",
    "        )\n",
    "        self.bn1 = backbone.bn1\n",
    "        self.relu = backbone.relu\n",
    "        self.maxpool = backbone.maxpool\n",
    "        # h x 4\n",
    "        self.layer1 = backbone.layer1\n",
    "        self.layer2 = backbone.layer2\n",
    "        self.layer3 = backbone.layer3\n",
    "        self.layer4 = backbone.layer4\n",
    "        # self.avgpool = backbone.avgpool\n",
    "        # self.fc = nn.Linear(512 * 4, out_features)\n",
    "\n",
    "    def forward(self, x):\n",
    "        x = self.conv1(x)\n",
    "        x = self.bn1(x)\n",
    "        x = self.relu(x)\n",
    "        x = self.maxpool(x)\n",
    "        x1 = self.layer1(x)\n",
    "        x2 = self.layer2(x1)\n",
    "        x3 = self.layer3(x2)\n",
    "        x4 = self.layer4(x3)\n",
    "        return x1, x2, x3, x4\n",
    "\n",
    "    def print_summary(self, input_size):\n",
    "        summary(self, input_size)"
   ]
  },
  {
   "cell_type": "code",
   "execution_count": 5,
   "metadata": {},
   "outputs": [
    {
     "name": "stderr",
     "output_type": "stream",
     "text": [
      "/Users/janduchscherer/miniconda3/envs/prjMLenv/lib/python3.11/site-packages/torchvision/models/_utils.py:223: UserWarning: Arguments other than a weight enum or `None` for 'weights' are deprecated since 0.13 and may be removed in the future. The current behavior is equivalent to passing `weights=ResNet50_Weights.IMAGENET1K_V1`. You can also use `weights=ResNet50_Weights.DEFAULT` to get the most up-to-date weights.\n",
      "  warnings.warn(msg)\n"
     ]
    },
    {
     "name": "stdout",
     "output_type": "stream",
     "text": [
      "torch.Size([1, 256, 32, 32])\n",
      "torch.Size([1, 512, 16, 16])\n",
      "torch.Size([1, 1024, 8, 8])\n",
      "torch.Size([1, 2048, 4, 4])\n"
     ]
    }
   ],
   "source": [
    "model = ResNet4Channel()  # Assuming UNet and num_classes are defined\n",
    "input_size = (\n",
    "    4,\n",
    "    128,\n",
    "    128,\n",
    ")  # Example input size: 4-channel RGB-D image with 224x224 resolution\n",
    "# model.print_summary(input_size)\n",
    "x1, x2, x3, x4 = model.forward(torch.randn(1, 4, 128, 128))\n",
    "print(x1.shape, x2.shape, x3.shape, x4.shape, sep='\\n')"
   ]
  }
 ],
 "metadata": {
  "kernelspec": {
   "display_name": "prjMLenv",
   "language": "python",
   "name": "python3"
  },
  "language_info": {
   "codemirror_mode": {
    "name": "ipython",
    "version": 3
   },
   "file_extension": ".py",
   "mimetype": "text/x-python",
   "name": "python",
   "nbconvert_exporter": "python",
   "pygments_lexer": "ipython3",
   "version": "3.11.0"
  },
  "orig_nbformat": 4
 },
 "nbformat": 4,
 "nbformat_minor": 2
}
